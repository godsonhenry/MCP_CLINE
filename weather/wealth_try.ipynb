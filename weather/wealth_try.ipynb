{
 "cells": [
  {
   "cell_type": "code",
   "execution_count": 1,
   "id": "483f69b3",
   "metadata": {},
   "outputs": [],
   "source": [
    "from typing import Any\n",
    "import httpx\n",
    "from mcp.server.fastmcp import FastMCP"
   ]
  },
  {
   "cell_type": "code",
   "execution_count": 2,
   "id": "c7919937",
   "metadata": {},
   "outputs": [],
   "source": [
    "mcp = FastMCP(\"weather\", log_level=\"ERROR\")\n"
   ]
  },
  {
   "cell_type": "code",
   "execution_count": 3,
   "id": "ae8d9946",
   "metadata": {},
   "outputs": [],
   "source": [
    "NWS_API_BASE = \"https://api.weather.gov\"\n",
    "USER_AGENT = \"weather-app/1.0\""
   ]
  },
  {
   "cell_type": "code",
   "execution_count": 4,
   "id": "5c702636",
   "metadata": {},
   "outputs": [],
   "source": [
    "async def make_nws_request(url: str) -> dict[str, Any] | None:\n",
    "    \"\"\"Make a request to the NWS API with proper error handling.\"\"\"\n",
    "    headers = {\n",
    "        \"User-Agent\": USER_AGENT,\n",
    "        \"Accept\": \"application/geo+json\"\n",
    "    }\n",
    "    async with httpx.AsyncClient() as client:\n",
    "        try:\n",
    "            response = await client.get(url, headers=headers, timeout=30.0)\n",
    "            response.raise_for_status()\n",
    "            return response.json()\n",
    "        except Exception:\n",
    "            return None"
   ]
  },
  {
   "cell_type": "code",
   "execution_count": 5,
   "id": "ec705964",
   "metadata": {},
   "outputs": [],
   "source": [
    "def format_alert(feature: dict) -> str:\n",
    "    \"\"\"Format an alert feature into a readable string.\"\"\"\n",
    "    props = feature[\"properties\"]\n",
    "    return f\"\"\"\n",
    "Event: {props.get('event', 'Unknown')}\n",
    "Area: {props.get('areaDesc', 'Unknown')}\n",
    "Severity: {props.get('severity', 'Unknown')}\n",
    "Description: {props.get('description', 'No description available')}\n",
    "Instructions: {props.get('instruction', 'No specific instructions provided')}\n",
    "\"\"\""
   ]
  },
  {
   "cell_type": "code",
   "execution_count": 14,
   "id": "47559669",
   "metadata": {},
   "outputs": [],
   "source": [
    "@mcp.tool()\n",
    "async def get_alerts(state: str) -> str:\n",
    "    \"\"\"Get weather alerts for a US state.\n",
    "\n",
    "    Args:\n",
    "        state: Two-letter US state code (e.g. CA, NY)\n",
    "    \"\"\"\n",
    "    url = f\"{NWS_API_BASE}/alerts/active/area/{state}\"\n",
    "    data = await make_nws_request(url)\n",
    "\n",
    "    if not data or \"features\" not in data:\n",
    "        return \"Unable to fetch alerts or no alerts found.\"\n",
    "\n",
    "    if not data[\"features\"]:\n",
    "        return \"No active alerts for this state.\"\n",
    "\n",
    "    alerts = [format_alert(feature) for feature in data[\"features\"]]\n",
    "    return \"\\n---\\n\".join(alerts)"
   ]
  },
  {
   "cell_type": "markdown",
   "id": "53f1e11c",
   "metadata": {},
   "source": [
    "***mcp tool saves  tool name. arguments, fucntion in doc string and arguments dictionary in doc string***"
   ]
  },
  {
   "cell_type": "code",
   "execution_count": 15,
   "id": "15e0cb2d",
   "metadata": {},
   "outputs": [],
   "source": [
    "@mcp.tool()\n",
    "async def get_forecast(latitude: float, longitude: float) -> str:\n",
    "    \"\"\"Get weather forecast for a location.\n",
    "\n",
    "    Args:\n",
    "        latitude: Latitude of the location\n",
    "        longitude: Longitude of the location\n",
    "    \"\"\"\n",
    "    # First get the forecast grid endpoint\n",
    "    points_url = f\"{NWS_API_BASE}/points/{latitude},{longitude}\"\n",
    "    points_data = await make_nws_request(points_url)\n",
    "\n",
    "    if not points_data:\n",
    "        return \"Unable to fetch forecast data for this location.\"\n",
    "\n",
    "    # Get the forecast URL from the points response\n",
    "    forecast_url = points_data[\"properties\"][\"forecast\"]\n",
    "    forecast_data = await make_nws_request(forecast_url)\n",
    "\n",
    "    if not forecast_data:\n",
    "        return \"Unable to fetch detailed forecast.\"\n",
    "\n",
    "    # Format the periods into a readable forecast\n",
    "    periods = forecast_data[\"properties\"][\"periods\"]\n",
    "    forecasts = []\n",
    "    for period in periods[:5]:  # Only show next 5 periods\n",
    "        forecast = f\"\"\"\n",
    "{period['name']}:\n",
    "Temperature: {period['temperature']}°{period['temperatureUnit']}\n",
    "Wind: {period['windSpeed']} {period['windDirection']}\n",
    "Forecast: {period['detailedForecast']}\n",
    "\"\"\"\n",
    "        forecasts.append(forecast)\n",
    "\n",
    "    return \"\\n---\\n\".join(forecasts)"
   ]
  },
  {
   "cell_type": "markdown",
   "id": "8a67c047",
   "metadata": {},
   "source": [
    "MCP run  using I/O "
   ]
  },
  {
   "cell_type": "code",
   "execution_count": null,
   "id": "cdc316a2",
   "metadata": {},
   "outputs": [],
   "source": [
    "if __main__== \"__main__\":\n",
    "    mcp.run(transport='stdio')"
   ]
  }
 ],
 "metadata": {
  "kernelspec": {
   "display_name": ".venv",
   "language": "python",
   "name": "python3"
  },
  "language_info": {
   "codemirror_mode": {
    "name": "ipython",
    "version": 3
   },
   "file_extension": ".py",
   "mimetype": "text/x-python",
   "name": "python",
   "nbconvert_exporter": "python",
   "pygments_lexer": "ipython3",
   "version": "3.13.3"
  }
 },
 "nbformat": 4,
 "nbformat_minor": 5
}
